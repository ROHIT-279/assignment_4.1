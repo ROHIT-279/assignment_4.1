{
 "cells": [
  {
   "cell_type": "code",
   "execution_count": 11,
   "id": "4478f461-f781-433a-a70e-71ea9e06bd3a",
   "metadata": {},
   "outputs": [],
   "source": [
    "#Q1.\n",
    "class Car_design:\n",
    "    def __init__(self , name_of_vehicle , max_speed , average_of_vehicle):\n",
    "        self.name_of_vehicle = name_of_vehicle \n",
    "        self.max_speed = max_speed\n",
    "        self.average_of_vehicle = average_of_vehicle\n",
    "    def Car_design_details(self):\n",
    "        return self.name_of_vehicle , self.max_speed , self.average_of_vehicle\n",
    "    \n",
    "    "
   ]
  },
  {
   "cell_type": "code",
   "execution_count": 13,
   "id": "19b9b86c-45b4-478a-8ae1-0b3d7be75aca",
   "metadata": {},
   "outputs": [],
   "source": [
    "car = Car_design(\"LAMBORGINI\" , \"320km/h\" , \"45\")"
   ]
  },
  {
   "cell_type": "code",
   "execution_count": 15,
   "id": "2314b29f-d696-4aff-b567-0bd3912a0627",
   "metadata": {},
   "outputs": [
    {
     "data": {
      "text/plain": [
       "'LAMBORGINI'"
      ]
     },
     "execution_count": 15,
     "metadata": {},
     "output_type": "execute_result"
    }
   ],
   "source": [
    "car.name_of_vehicle"
   ]
  },
  {
   "cell_type": "raw",
   "id": "07d9c3a4-043f-4e4e-9a6d-58290d3fab63",
   "metadata": {},
   "source": []
  },
  {
   "cell_type": "code",
   "execution_count": 17,
   "id": "06be6833-1b6f-4b0e-8100-2de6567d2ceb",
   "metadata": {},
   "outputs": [
    {
     "data": {
      "text/plain": [
       "'320km/h'"
      ]
     },
     "execution_count": 17,
     "metadata": {},
     "output_type": "execute_result"
    }
   ],
   "source": [
    "car.max_speed "
   ]
  },
  {
   "cell_type": "code",
   "execution_count": 18,
   "id": "43a64faa-388a-44b0-b424-e94ca588a88b",
   "metadata": {},
   "outputs": [
    {
     "data": {
      "text/plain": [
       "'45'"
      ]
     },
     "execution_count": 18,
     "metadata": {},
     "output_type": "execute_result"
    }
   ],
   "source": [
    "car.average_of_vehicle"
   ]
  },
  {
   "cell_type": "code",
   "execution_count": 14,
   "id": "3f913461-30b7-4124-b310-221468636c27",
   "metadata": {},
   "outputs": [],
   "source": [
    "#Q2.\n",
    "class capacity():\n",
    "    def __init__(self , vehicle_name,seating_capacity,max_speed , average_of_vehicle):\n",
    "        self.vehicle_name = vehicle_name\n",
    "        self.seating_capacity = seating_capacity\n",
    "        self.max_speed = max_speed \n",
    "        self.average_of_vehicle = average_of_vehicle\n",
    "    def car_seating_capacity(self):\n",
    "        return self.vehicle_name , self.seating_capacity,self.max_speed , self.average_of_vehicle"
   ]
  },
  {
   "cell_type": "code",
   "execution_count": 15,
   "id": "adcb756b-3fb2-4554-90a5-c2c71656f260",
   "metadata": {},
   "outputs": [],
   "source": [
    "bmw = capacity(\"BMW CARS\", 6 , \"320km/h\" , 45)"
   ]
  },
  {
   "cell_type": "code",
   "execution_count": 16,
   "id": "862642fd-4478-47a2-8018-8a6c620a59d4",
   "metadata": {},
   "outputs": [
    {
     "data": {
      "text/plain": [
       "6"
      ]
     },
     "execution_count": 16,
     "metadata": {},
     "output_type": "execute_result"
    }
   ],
   "source": [
    "bmw.seating_capacity"
   ]
  },
  {
   "cell_type": "code",
   "execution_count": 17,
   "id": "20114b08-973d-46c9-9b10-d83a68a0c9cb",
   "metadata": {},
   "outputs": [
    {
     "data": {
      "text/plain": [
       "'320km/h'"
      ]
     },
     "execution_count": 17,
     "metadata": {},
     "output_type": "execute_result"
    }
   ],
   "source": [
    "bmw.max_speed"
   ]
  },
  {
   "cell_type": "code",
   "execution_count": 18,
   "id": "188c6532-a974-4556-8f45-306b89f2cb1c",
   "metadata": {},
   "outputs": [],
   "source": [
    "#Q3. Multiple inheritance is a feature in object-oriented programming where a class can inherit properties and methods from multiple parent classes.In Python, multiple inheritance is achieved by specifying multiple base classes in the class definition"
   ]
  },
  {
   "cell_type": "code",
   "execution_count": 31,
   "id": "dc78f30d-b9bd-4c28-bba6-42e24607af35",
   "metadata": {},
   "outputs": [],
   "source": [
    "#Q3.\n",
    "class class1:   \n",
    "    def test1(self):\n",
    "        return \"This is my 1st method\""
   ]
  },
  {
   "cell_type": "code",
   "execution_count": 32,
   "id": "d02dbb8b-a64c-4630-904b-16afc48ee213",
   "metadata": {},
   "outputs": [],
   "source": [
    "class class2:\n",
    "    def test2(self):\n",
    "        return \"this is my 2nd method\""
   ]
  },
  {
   "cell_type": "code",
   "execution_count": 33,
   "id": "20349e6a-3e3e-40fa-9894-b513c087bbfd",
   "metadata": {},
   "outputs": [],
   "source": [
    "class class3(class1 , class2):\n",
    "    pass"
   ]
  },
  {
   "cell_type": "code",
   "execution_count": 35,
   "id": "aa0f525e-0a7e-40ba-a415-178fc8249f2d",
   "metadata": {},
   "outputs": [],
   "source": [
    "obj = class3()"
   ]
  },
  {
   "cell_type": "code",
   "execution_count": 40,
   "id": "167d2e95-6f96-49aa-b074-77fbaa87a144",
   "metadata": {},
   "outputs": [
    {
     "data": {
      "text/plain": [
       "'This is my 1st method'"
      ]
     },
     "execution_count": 40,
     "metadata": {},
     "output_type": "execute_result"
    }
   ],
   "source": [
    "obj.test1()"
   ]
  },
  {
   "cell_type": "code",
   "execution_count": 41,
   "id": "837b4ffa-497c-46f4-9fb2-43c9216a8340",
   "metadata": {},
   "outputs": [
    {
     "data": {
      "text/plain": [
       "'this is my 2nd method'"
      ]
     },
     "execution_count": 41,
     "metadata": {},
     "output_type": "execute_result"
    }
   ],
   "source": [
    "obj.test2()"
   ]
  },
  {
   "cell_type": "code",
   "execution_count": 42,
   "id": "614166af-42d2-4634-a3d0-72dfe315d5fd",
   "metadata": {},
   "outputs": [],
   "source": [
    "#Q4.In Python, getters and setters are methods used to access and modify private attributes of a class. Private attributes are attributes that should not be directly accessed from outside the class."
   ]
  },
  {
   "cell_type": "code",
   "execution_count": 63,
   "id": "5cf6f128-5012-4eb0-bac5-a4f32a599458",
   "metadata": {},
   "outputs": [],
   "source": [
    "#Q4.\n",
    "class pwskills:\n",
    "    def __init__(self, course_name,course_price):\n",
    "        self.course_name = course_name\n",
    "        self.course_price =course_price\n",
    "        \n",
    "    @property\n",
    "    def cource_details_access(self):\n",
    "        return self.__course_price\n",
    "    @cource_details_access.setter\n",
    "    def course_price_set(self, price):\n",
    "        if price <= 3500:\n",
    "            pass\n",
    "        else:\n",
    "            self.__course_price = price\n",
    "    "
   ]
  },
  {
   "cell_type": "code",
   "execution_count": 64,
   "id": "b8eebd0f-22ba-45f1-afdd-d5d5c8b87be2",
   "metadata": {},
   "outputs": [],
   "source": [
    "course = pwskills(\"DATA SCIENCE MASTERS\", 3500)"
   ]
  },
  {
   "cell_type": "code",
   "execution_count": 65,
   "id": "952fd294-c6a6-4ac4-9e30-fce4ecc0357b",
   "metadata": {},
   "outputs": [
    {
     "data": {
      "text/plain": [
       "'DATA SCIENCE MASTERS'"
      ]
     },
     "execution_count": 65,
     "metadata": {},
     "output_type": "execute_result"
    }
   ],
   "source": [
    "course.course_name"
   ]
  },
  {
   "cell_type": "code",
   "execution_count": 67,
   "id": "b910519b-36e8-4add-8bba-5e339e1cec2d",
   "metadata": {},
   "outputs": [
    {
     "data": {
      "text/plain": [
       "3500"
      ]
     },
     "execution_count": 67,
     "metadata": {},
     "output_type": "execute_result"
    }
   ],
   "source": [
    "course.course_price"
   ]
  },
  {
   "cell_type": "code",
   "execution_count": 68,
   "id": "7c440b6f-98cf-4f33-8d48-6ce841772d4d",
   "metadata": {},
   "outputs": [],
   "source": [
    "#Q5.Method overriding is a feature in object-oriented programming where a subclass provides its own implementation of a method that is already defined in its superclass. When the method is called on an object of the subclass, the subclass's implementation is executed instead of the superclass's implementation."
   ]
  },
  {
   "cell_type": "code",
   "execution_count": 94,
   "id": "7c9784c9-3f7f-4cff-97ed-1ec8e145f674",
   "metadata": {},
   "outputs": [],
   "source": [
    "class animal:\n",
    "    def speak(self):\n",
    "        print(\"THE ANIMALS ARE SPEAKING\")  \n",
    "class dog(animal):\n",
    "    def speak(self):\n",
    "        print(\"THE DOGS ARE BEARKING\")\n",
    "        \n",
    "class cat(animal):\n",
    "    pass"
   ]
  },
  {
   "cell_type": "code",
   "execution_count": 99,
   "id": "02943c50-5e73-4848-bdec-44ebbc55cc05",
   "metadata": {},
   "outputs": [
    {
     "name": "stdout",
     "output_type": "stream",
     "text": [
      "THE HUMANS ARE SPEAKING\n"
     ]
    }
   ],
   "source": [
    "A= anima"
   ]
  },
  {
   "cell_type": "code",
   "execution_count": 96,
   "id": "e413b8fe-ac75-4d08-8f3c-44de378b09d8",
   "metadata": {},
   "outputs": [],
   "source": [
    "D = dog()"
   ]
  },
  {
   "cell_type": "code",
   "execution_count": 97,
   "id": "aaee3dbf-abfd-4a65-9b29-93cd751368a7",
   "metadata": {},
   "outputs": [
    {
     "name": "stdout",
     "output_type": "stream",
     "text": [
      "THE DOGS ARE BEARKING\n"
     ]
    }
   ],
   "source": [
    "D.speak()"
   ]
  },
  {
   "cell_type": "code",
   "execution_count": 98,
   "id": "8f29cb23-b7cc-4ae6-ab56-3f7c35277786",
   "metadata": {},
   "outputs": [],
   "source": [
    "C = cat()"
   ]
  },
  {
   "cell_type": "code",
   "execution_count": 93,
   "id": "4f1d9d30-324e-428e-9489-fed081f66f91",
   "metadata": {},
   "outputs": [
    {
     "ename": "NameError",
     "evalue": "name 'c' is not defined",
     "output_type": "error",
     "traceback": [
      "\u001b[0;31m---------------------------------------------------------------------------\u001b[0m",
      "\u001b[0;31mNameError\u001b[0m                                 Traceback (most recent call last)",
      "Cell \u001b[0;32mIn[93], line 1\u001b[0m\n\u001b[0;32m----> 1\u001b[0m \u001b[43mc\u001b[49m\u001b[38;5;241m.\u001b[39mspeak()\n",
      "\u001b[0;31mNameError\u001b[0m: name 'c' is not defined"
     ]
    }
   ],
   "source": [
    "c.speak()"
   ]
  },
  {
   "cell_type": "code",
   "execution_count": null,
   "id": "48690a0d-beec-4d74-87fa-edc1d738db80",
   "metadata": {},
   "outputs": [],
   "source": []
  }
 ],
 "metadata": {
  "kernelspec": {
   "display_name": "Python 3 (ipykernel)",
   "language": "python",
   "name": "python3"
  },
  "language_info": {
   "codemirror_mode": {
    "name": "ipython",
    "version": 3
   },
   "file_extension": ".py",
   "mimetype": "text/x-python",
   "name": "python",
   "nbconvert_exporter": "python",
   "pygments_lexer": "ipython3",
   "version": "3.10.8"
  }
 },
 "nbformat": 4,
 "nbformat_minor": 5
}
